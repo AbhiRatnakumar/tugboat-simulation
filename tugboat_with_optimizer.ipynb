{
 "cells": [
  {
   "cell_type": "code",
   "execution_count": 9,
   "id": "bf314c82-7366-4ddf-bd55-fb761f45e0f6",
   "metadata": {},
   "outputs": [],
   "source": [
    "# Simulation of tugboat-assisted docking using SimPy.\n",
    "# Models ship arrivals, tug availability, rest scheduling, and priority handling."
   ]
  },
  {
   "cell_type": "code",
   "execution_count": 10,
   "id": "450fb219-1b39-4795-a2ae-7c967a372250",
   "metadata": {},
   "outputs": [],
   "source": [
    "import simpy\n",
    "import random\n",
    "import pandas as pd"
   ]
  },
  {
   "cell_type": "code",
   "execution_count": 11,
   "id": "897232e7-e09e-4bdc-b31c-9575ed12b69f",
   "metadata": {},
   "outputs": [],
   "source": [
    "# Simulation parameters\n",
    "NUM_TUGS = 3                  # Number of tugboats\n",
    "SIM_TIME = 200                # Total hours to simulate\n",
    "SHIP_ARRIVAL_MEAN = 10        # Mean time between ship arrivals\n",
    "DOCKING_TIME_MEAN = 4         # Mean duration of each docking\n",
    "TUG_WORK_LIMIT = 12           # Max hours a tug can work before resting\n",
    "TUG_REST_TIME = 2             # Rest time after hitting work limit\n",
    "PRIORITY_PROB = 0.3           # Chance a ship is high-priority (VIP)"
   ]
  },
  {
   "cell_type": "code",
   "execution_count": 12,
   "id": "e8f493ad-72f2-43a3-bb45-fa3e76e38915",
   "metadata": {},
   "outputs": [],
   "source": [
    "# Metrics\n",
    "ship_wait_times = []\n",
    "tug_idle_times = {}\n",
    "missed_priority_jobs = 0"
   ]
  },
  {
   "cell_type": "code",
   "execution_count": 13,
   "id": "822d173e-9c97-4837-8020-92bdb72e28c3",
   "metadata": {},
   "outputs": [],
   "source": [
    "class Tug:\n",
    "    def __init__(self, env, name):\n",
    "        # Each tug is a SimPy resource with capacity 1 (can assist one ship at a time)\n",
    "        self.env = env\n",
    "        self.name = name\n",
    "        self.resource = simpy.Resource(env, capacity=1)\n",
    "        self.total_work = 0\n",
    "        self.idle_start = 0\n",
    "        self.total_idle = 0\n",
    "        self.available_at = 0  # time when tug will next be available\n",
    "\n",
    "    def assist(self, docking_time):\n",
    "        # Tug works for docking_time hours\n",
    "        # Then checks if rest is needed\n",
    "        self.total_work += docking_time\n",
    "        yield self.env.timeout(docking_time)\n",
    "        self.available_at = self.env.now\n",
    "\n",
    "        if self.total_work >= TUG_WORK_LIMIT:\n",
    "            yield self.env.timeout(TUG_REST_TIME)\n",
    "            self.available_at = self.env.now\n",
    "            self.total_work = 0"
   ]
  },
  {
   "cell_type": "code",
   "execution_count": 14,
   "id": "197b0859-06d2-4e2d-9f54-3d586e34955a",
   "metadata": {},
   "outputs": [],
   "source": [
    "def ship_generator(env, tugs):\n",
    "    ship_id = 0\n",
    "    while True:\n",
    "        yield env.timeout(random.expovariate(1 / SHIP_ARRIVAL_MEAN))\n",
    "        ship_id += 1\n",
    "        docking_time = random.expovariate(1 / DOCKING_TIME_MEAN)\n",
    "        priority = 0 if random.random() < PRIORITY_PROB else 1\n",
    "        env.process(handle_ship(env, f\"Ship_{ship_id}\", docking_time, tugs, priority))"
   ]
  },
  {
   "cell_type": "code",
   "execution_count": 15,
   "id": "b9041b6d-b6d0-4531-9c26-b50cfb214059",
   "metadata": {},
   "outputs": [],
   "source": [
    "def handle_ship(env, name, docking_time, tugs, priority):\n",
    "    global missed_priority_jobs\n",
    "    arrival_time = env.now\n",
    "\n",
    "    # Greedy scheduling: select tug that becomes available the soonest\n",
    "    chosen_tug = min(tugs, key=lambda t: max(t.available_at, env.now))\n",
    "\n",
    "    # Request the tug, but only wait up to 5 hours\n",
    "    with chosen_tug.resource.request() as req:\n",
    "        result = yield req | env.timeout(5)\n",
    "        # If tug accepted the request\n",
    "        if req in result:\n",
    "            wait_time = env.now - arrival_time\n",
    "            ship_wait_times.append(wait_time)\n",
    "            chosen_tug.total_idle += max(0, env.now - chosen_tug.idle_start)\n",
    "            yield env.process(chosen_tug.assist(docking_time))\n",
    "            chosen_tug.idle_start = env.now\n",
    "            tug_idle_times[chosen_tug.name] = chosen_tug.total_idle\n",
    "        # If priority ship missed due to timeout\n",
    "        else:\n",
    "            if priority == 0:\n",
    "                missed_priority_jobs += 1"
   ]
  },
  {
   "cell_type": "code",
   "execution_count": 16,
   "id": "54398daa-6041-4778-b5fe-18b01fe7fec9",
   "metadata": {},
   "outputs": [],
   "source": [
    "def run_sim():\n",
    "    global ship_wait_times, tug_idle_times, missed_priority_jobs\n",
    "    ship_wait_times = []\n",
    "    tug_idle_times = {}\n",
    "    missed_priority_jobs = 0\n",
    "\n",
    "    env = simpy.Environment()\n",
    "    tugs = [Tug(env, f\"Tug_{i+1}\") for i in range(NUM_TUGS)]\n",
    "    env.process(ship_generator(env, tugs))\n",
    "    env.run(until=SIM_TIME)\n",
    "\n",
    "    avg_wait = sum(ship_wait_times) / len(ship_wait_times) if ship_wait_times else 0\n",
    "    total_idle = sum(tug_idle_times.values())\n",
    "    utilization = ((SIM_TIME * NUM_TUGS - total_idle) / (SIM_TIME * NUM_TUGS)) * 100\n",
    "    return {\n",
    "        \"Avg. Ship Wait (h)\": round(avg_wait, 2),\n",
    "        \"Tug Utilization (%)\": round(utilization, 2),\n",
    "        \"Missed Priority Jobs\": missed_priority_jobs\n",
    "    }\n"
   ]
  },
  {
   "cell_type": "code",
   "execution_count": 17,
   "id": "7d4317a2-4bec-4274-adce-4a1656915885",
   "metadata": {},
   "outputs": [
    {
     "name": "stdout",
     "output_type": "stream",
     "text": [
      "   Avg. Ship Wait (h)  Tug Utilization (%)  Missed Priority Jobs  Tugs\n",
      "0                0.38                74.09                     1     2\n",
      "1                0.09                79.37                     2     3\n",
      "2                0.25                86.27                     1     4\n",
      "3                0.35                86.58                     0     5\n",
      "4                0.94                87.56                     0     6\n",
      "5                0.57                90.45                     3     7\n",
      "6                0.52                92.01                     1     8\n",
      "7                0.49                93.12                     1     9\n",
      "8                0.58                96.57                     3    10\n"
     ]
    }
   ],
   "source": [
    "# Run simulation for different numbers of tugs and collect performance metrics\n",
    "results = []\n",
    "for num_tugs in [2, 3, 4, 5, 6, 7, 8, 9, 10]:\n",
    "    NUM_TUGS = num_tugs  # update global parameter\n",
    "    result = run_sim()\n",
    "    result[\"Tugs\"] = num_tugs\n",
    "    results.append(result)\n",
    "\n",
    "df = pd.DataFrame(results)\n",
    "print(df)"
   ]
  },
  {
   "cell_type": "code",
   "execution_count": null,
   "id": "e29c4038-a683-4c0a-8199-42ed8053c249",
   "metadata": {},
   "outputs": [],
   "source": []
  }
 ],
 "metadata": {
  "kernelspec": {
   "display_name": "Python 3 (ipykernel)",
   "language": "python",
   "name": "python3"
  },
  "language_info": {
   "codemirror_mode": {
    "name": "ipython",
    "version": 3
   },
   "file_extension": ".py",
   "mimetype": "text/x-python",
   "name": "python",
   "nbconvert_exporter": "python",
   "pygments_lexer": "ipython3",
   "version": "3.9.21"
  }
 },
 "nbformat": 4,
 "nbformat_minor": 5
}
